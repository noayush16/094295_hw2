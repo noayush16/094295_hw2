{
 "cells": [
  {
   "cell_type": "markdown",
   "id": "c8063cdf",
   "metadata": {},
   "source": [
    "### Imports And Constants"
   ]
  },
  {
   "cell_type": "code",
   "execution_count": 1,
   "id": "cea461db",
   "metadata": {},
   "outputs": [],
   "source": [
    "import os\n",
    "import numpy as np\n",
    "from PIL import Image\n",
    "import matplotlib.pyplot as plt\n",
    "from tqdm import tqdm\n",
    "\n",
    "import torch\n",
    "import torch.nn as nn\n",
    "\n",
    "from torchvision import transforms as tr\n",
    "from torchvision.transforms import Compose\n",
    "from torchvision import models, datasets\n",
    "\n",
    "from sklearn import model_selection\n",
    "from sklearn.metrics import accuracy_score"
   ]
  },
  {
   "cell_type": "code",
   "execution_count": 2,
   "id": "6e28cdb9",
   "metadata": {},
   "outputs": [],
   "source": [
    "IMG_SIZE = (64, 64)\n",
    "IMG_ARR_SIZE = IMG_SIZE[0] * IMG_SIZE[1]\n",
    "MAX_IMGS = 10000\n",
    "CLASSES = ['i', 'ii', 'iii', 'iv', 'v', 'vi', 'vii', 'viii', 'ix', 'x']\n",
    "SEED = 42"
   ]
  },
  {
   "cell_type": "markdown",
   "id": "cd66927f",
   "metadata": {},
   "source": [
    "### Extarct All Images"
   ]
  },
  {
   "cell_type": "code",
   "execution_count": 3,
   "id": "7fb7f216",
   "metadata": {},
   "outputs": [],
   "source": [
    "def extract_images_from_path(imgs_path_label, train_val_dir, dir_ori='data_0'):\n",
    "    path = os.path.join(dir_ori, train_val_dir)\n",
    "    for (dirpath, dirnames, filenames) in os.walk(path):\n",
    "        for filename in filenames:\n",
    "            if filename.endswith('.png'):\n",
    "                label = dirpath.split('/')[2]\n",
    "                img_path = os.path.join(dirpath, filename)\n",
    "                imgs_path_label[img_path] = label\n",
    "    return imgs_path_label"
   ]
  },
  {
   "cell_type": "code",
   "execution_count": 4,
   "id": "fed84533",
   "metadata": {},
   "outputs": [],
   "source": [
    "def extract_all_images():\n",
    "    return extract_images_from_path(extract_images_from_path({}, 'train'), 'val')"
   ]
  },
  {
   "cell_type": "code",
   "execution_count": 5,
   "id": "ccae27b6",
   "metadata": {},
   "outputs": [],
   "source": [
    "imgs_path_label = extract_all_images()"
   ]
  },
  {
   "cell_type": "markdown",
   "id": "eec26397",
   "metadata": {},
   "source": [
    "### Exploration"
   ]
  },
  {
   "cell_type": "code",
   "execution_count": 6,
   "id": "90d7750e",
   "metadata": {},
   "outputs": [],
   "source": [
    "def create_hist(labels, count):\n",
    "    plt.bar(hist_labels.keys(), hist_labels.values(), color='maroon', width=0.4)\n",
    " \n",
    "    plt.xlabel(\"Class\")\n",
    "    plt.ylabel(\"Class' Count\")\n",
    "    plt.title(\"Classes Histogram\")\n",
    "    plt.show()"
   ]
  },
  {
   "cell_type": "code",
   "execution_count": 7,
   "id": "a31fd7b0",
   "metadata": {},
   "outputs": [
    {
     "name": "stdout",
     "output_type": "stream",
     "text": [
      "{'i': 239, 'ii': 141, 'iii': 129, 'iv': 245, 'v': 165, 'vi': 156, 'vii': 155, 'viii': 158, 'ix': 200, 'x': 169}\n"
     ]
    },
    {
     "data": {
      "image/png": "[encoded data removed]",
      "text/plain": [
       "<Figure size 432x288 with 1 Axes>"
      ]
     },
     "metadata": {
      "needs_background": "light"
     },
     "output_type": "display_data"
    }
   ],
   "source": [
    "hist_labels = {c: list(imgs_path_label.values()).count(c) for c in CLASSES}\n",
    "print(hist_labels)\n",
    "create_hist(hist_labels.keys(), hist_labels.values())"
   ]
  },
  {
   "cell_type": "markdown",
   "id": "506ee274",
   "metadata": {},
   "source": [
    "### Split To Train-Validation"
   ]
  },
  {
   "cell_type": "code",
   "execution_count": 8,
   "id": "16ff9a7a",
   "metadata": {},
   "outputs": [],
   "source": [
    "# # self evaluation\n",
    "# X_train_val_path, X_test_path, y_train_val, y_test_ori = model_selection.train_test_split(list(imgs_path_label.keys()), list(imgs_path_label.values()), test_size=0.2, stratify=list(imgs_path_label.values()), random_state=SEED)\n",
    "# X_train_path, X_val_path, y_train_ori, y_val_ori = model_selection.train_test_split(X_train_val_path, y_train_val, test_size=0.2, stratify=y_train_val, random_state=SEED)"
   ]
  },
  {
   "cell_type": "code",
   "execution_count": 9,
   "id": "6af7c8f6",
   "metadata": {},
   "outputs": [],
   "source": [
    "# final submission\n",
    "X_train_path, X_val_path, y_train_ori, y_val_ori = model_selection.train_test_split(list(imgs_path_label.keys()), list(imgs_path_label.values()), test_size=0.2, stratify=list(imgs_path_label.values()), random_state=SEED)"
   ]
  },
  {
   "cell_type": "markdown",
   "id": "7246e218",
   "metadata": {},
   "source": [
    "### Augmentation"
   ]
  },
  {
   "cell_type": "code",
   "execution_count": 10,
   "id": "a144d53e",
   "metadata": {},
   "outputs": [],
   "source": [
    "pipeline_0 = Compose(\n",
    "             [tr.Resize(IMG_SIZE),\n",
    "              tr.ToTensor()])"
   ]
  },
  {
   "cell_type": "code",
   "execution_count": 11,
   "id": "ed28e7dc",
   "metadata": {},
   "outputs": [],
   "source": [
    "def custom_transform(X_paths, y_ori, base_pipeline=pipeline_0, pipeline=None, num_of_imgs=1):\n",
    "    if type(num_of_imgs) == dict:\n",
    "        X = torch.Tensor(num_of_imgs['total'], IMG_SIZE[0], IMG_SIZE[1])\n",
    "    else:\n",
    "        X = torch.Tensor(len(X_paths) * num_of_imgs, IMG_SIZE[0], IMG_SIZE[1])\n",
    "    y = []\n",
    "    \n",
    "    counter = 0\n",
    "    for i, (img_path, label) in enumerate(zip(X_paths, y_ori)):\n",
    "        img = Image.open(img_path)\n",
    "        new_imgs = [base_pipeline(img = img)[0]]\n",
    "        if type(num_of_imgs) == dict:\n",
    "            if num_of_imgs[label] > 1:\n",
    "                new_imgs.extend([pipeline(img = img)[0] for _ in range(num_of_imgs[label]-1)])\n",
    "                X[counter : counter + num_of_imgs[label]] = torch.stack(new_imgs)\n",
    "                y.extend([label] * num_of_imgs[label])\n",
    "                counter += num_of_imgs[label]\n",
    "        else:\n",
    "            new_imgs.extend([pipeline(img = img)[0] for _ in range(num_of_imgs-1)])\n",
    "            X[counter : counter + num_of_imgs] = torch.stack(new_imgs)\n",
    "            y.extend([label] * num_of_imgs)\n",
    "            counter += num_of_imgs    \n",
    "    return X, y"
   ]
  },
  {
   "cell_type": "code",
   "execution_count": 12,
   "id": "e2c058d3",
   "metadata": {},
   "outputs": [],
   "source": [
    "pipeline_1 = Compose(\n",
    "             [tr.Resize(IMG_SIZE),\n",
    "              tr.RandomPerspective(distortion_scale=0.5, p=1.0, fill=255),\n",
    "              tr.ColorJitter(brightness=0.5),\n",
    "              tr.ToTensor()])"
   ]
  },
  {
   "cell_type": "code",
   "execution_count": 13,
   "id": "5159e167",
   "metadata": {
    "scrolled": true
   },
   "outputs": [],
   "source": [
    "# class_num_imgs = (MAX_IMGS - len(y_val_ori) - len(y_test_ori)) / len(CLASSES)\n",
    "class_num_imgs = (MAX_IMGS - len(y_val_ori)) / len(CLASSES)\n",
    "hist_labels = {c: y_train_ori.count(c) for c in CLASSES}\n",
    "num_of_imgs = {c: int(class_num_imgs / hist_labels[c]) for c in CLASSES}\n",
    "num_of_imgs['total'] = sum([num_of_imgs[c] * hist_labels[c] for c in CLASSES])\n",
    "complete_counter = {c: int(class_num_imgs) - (num_of_imgs[c] * hist_labels[c]) for c in CLASSES}\n",
    "\n",
    "X_train, y_train = custom_transform(X_train_path, y_train_ori, pipeline=pipeline_1, num_of_imgs=num_of_imgs)\n",
    "X_val, y_val = custom_transform(X_val_path, y_val_ori)\n",
    "# X_test, y_test = custom_transform(X_test_path, y_test_ori)"
   ]
  },
  {
   "cell_type": "code",
   "execution_count": 14,
   "id": "1b73a308",
   "metadata": {},
   "outputs": [
    {
     "name": "stdout",
     "output_type": "stream",
     "text": [
      "{'i': 955, 'ii': 904, 'iii': 927, 'iv': 784, 'v': 924, 'vi': 875, 'vii': 868, 'viii': 882, 'ix': 960, 'x': 945}\n"
     ]
    },
    {
     "data": {
      "image/png": "[encoded data removed]",
      "text/plain": [
       "<Figure size 432x288 with 1 Axes>"
      ]
     },
     "metadata": {
      "needs_background": "light"
     },
     "output_type": "display_data"
    }
   ],
   "source": [
    "hist_labels = {c: y_train.count(c) for c in CLASSES}\n",
    "print(hist_labels)\n",
    "create_hist(hist_labels.keys(), hist_labels.values())"
   ]
  },
  {
   "cell_type": "markdown",
   "id": "6d5d7d1c",
   "metadata": {},
   "source": [
    "### Save Tensor As PNG Files"
   ]
  },
  {
   "cell_type": "code",
   "execution_count": 15,
   "id": "5142677b",
   "metadata": {},
   "outputs": [],
   "source": [
    "def save_images(train_val_dir, images, labels, dir_name='data'):\n",
    "    os.makedirs(dir_name, exist_ok=True)\n",
    "    \n",
    "    train_val_path = os.path.join(dir_name, train_val_dir)\n",
    "    os.makedirs(train_val_path , exist_ok=True)\n",
    "    \n",
    "    for c in CLASSES:\n",
    "        class_dir_path = os.path.join(train_val_path, c)\n",
    "        os.makedirs(class_dir_path , exist_ok=True)\n",
    "    \n",
    "    for i, (img, label) in enumerate(zip(images, labels)):\n",
    "        label_dir_path = os.path.join(train_val_path, label)\n",
    "        tr.ToPILImage()(img).save(os.path.join(label_dir_path, str(i) + '.png'))"
   ]
  },
  {
   "cell_type": "code",
   "execution_count": 16,
   "id": "55e62ab1",
   "metadata": {},
   "outputs": [],
   "source": [
    "save_images('train', X_train, y_train)"
   ]
  },
  {
   "cell_type": "code",
   "execution_count": 17,
   "id": "47e317c7",
   "metadata": {},
   "outputs": [],
   "source": [
    "save_images('val', X_val, y_val)"
   ]
  },
  {
   "cell_type": "code",
   "execution_count": 18,
   "id": "33e995a6",
   "metadata": {},
   "outputs": [],
   "source": [
    "# save_images('test', X_test, y_test, dir_name='data_test')"
   ]
  },
  {
   "cell_type": "markdown",
   "id": "84f7f32c",
   "metadata": {},
   "source": [
    "### Evaluation"
   ]
  },
  {
   "cell_type": "code",
   "execution_count": null,
   "id": "b2f4b246",
   "metadata": {
    "scrolled": true
   },
   "outputs": [],
   "source": [
    "!python /home/student/run_train_eval.py"
   ]
  },
  {
   "cell_type": "code",
   "execution_count": 21,
   "id": "4f7b6e0a",
   "metadata": {},
   "outputs": [],
   "source": [
    "def test_accuracy(model_path='trained_model.pt', dir_name='data_test', base_pipeline=pipeline_0):\n",
    "    device = torch.device(\"cuda:0\" if torch.cuda.is_available() else \"cpu\")\n",
    "    \n",
    "    model_ft = models.resnet50(pretrained=False)\n",
    "    num_ftrs = model_ft.fc.in_features\n",
    "    model_ft.fc = nn.Linear(num_ftrs, len(CLASSES))\n",
    "    model_ft = model_ft.to(device)\n",
    "    model_ft.load_state_dict(torch.load(model_path))\n",
    "    model_ft.eval()\n",
    "\n",
    "    test_dir = os.path.join(dir_name, \"test\")\n",
    "    test_dataset = datasets.ImageFolder(test_dir, base_pipeline)\n",
    "    test_dataloader = torch.utils.data.DataLoader(test_dataset, batch_size=1, shuffle=True)\n",
    "\n",
    "    counter = 0\n",
    "    correct = 0\n",
    "    for inputs, labels in tqdm(test_dataloader):\n",
    "        inputs = inputs.to(device)\n",
    "        labels = labels.to(device)\n",
    "        output = model_ft(inputs)\n",
    "        _, preds = torch.max(output, 1)\n",
    "\n",
    "        counter += 1\n",
    "        if torch.sum(preds == labels.data):\n",
    "            correct += 1\n",
    "\n",
    "    print('Test Accuracy: ' + str((correct/counter)*100) + '%')\n"
   ]
  },
  {
   "cell_type": "code",
   "execution_count": null,
   "id": "248575a7",
   "metadata": {},
   "outputs": [],
   "source": [
    "test_accuracy()"
   ]
  }
 ],
 "metadata": {
  "kernelspec": {
   "display_name": "Python 3 (ipykernel)",
   "language": "python",
   "name": "python3"
  },
  "language_info": {
   "codemirror_mode": {
    "name": "ipython",
    "version": 3
   },
   "file_extension": ".py",
   "mimetype": "text/x-python",
   "name": "python",
   "nbconvert_exporter": "python",
   "pygments_lexer": "ipython3",
   "version": "3.8.13"
  }
 },
 "nbformat": 4,
 "nbformat_minor": 5
}
